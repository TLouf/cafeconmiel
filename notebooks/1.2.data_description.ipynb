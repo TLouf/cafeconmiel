{
 "cells": [
  {
   "cell_type": "code",
   "execution_count": 1,
   "metadata": {
    "scrolled": true
   },
   "outputs": [],
   "source": [
    "# Reload all modules every time before executing the Python code typed\n",
    "%load_ext autoreload\n",
    "%autoreload 2"
   ]
  },
  {
   "cell_type": "code",
   "execution_count": 17,
   "metadata": {},
   "outputs": [
    {
     "data": {
      "text/plain": [
       "True"
      ]
     },
     "execution_count": 17,
     "metadata": {},
     "output_type": "execute_result"
    }
   ],
   "source": [
    "import os\n",
    "import re\n",
    "import json\n",
    "from pathlib import Path\n",
    "from tqdm import tqdm\n",
    "import numpy as np\n",
    "import pandas as pd\n",
    "import matplotlib.pyplot as plt\n",
    "import seaborn as sns\n",
    "import geopandas as gpd\n",
    "import datetime\n",
    "\n",
    "import cafeconmiel.data.metadata as metadata\n",
    "import cafeconmiel.data.token_counts as token_counts\n",
    "import cafeconmiel.utils.paths as paths_utils\n",
    "import cafeconmiel.utils.metrics as metrics\n",
    "import cafeconmiel.visualization.visualize as viz\n",
    "\n",
    "from dotenv import load_dotenv\n",
    "load_dotenv()"
   ]
  },
  {
   "cell_type": "code",
   "execution_count": 3,
   "metadata": {},
   "outputs": [],
   "source": [
    "paths = paths_utils.ProjectPaths()\n",
    "interim_data = paths.interim_data\n",
    "raw_data = paths.raw_data"
   ]
  },
  {
   "cell_type": "code",
   "execution_count": 4,
   "metadata": {},
   "outputs": [],
   "source": [
    "with open(paths.ext_data / 'corpora.json') as f:\n",
    "    corpus_metadata = json.load(f)"
   ]
  },
  {
   "attachments": {},
   "cell_type": "markdown",
   "metadata": {},
   "source": [
    "# Load pre-processed data"
   ]
  },
  {
   "attachments": {},
   "cell_type": "markdown",
   "metadata": {},
   "source": [
    "Load all documents"
   ]
  },
  {
   "cell_type": "code",
   "execution_count": 5,
   "metadata": {},
   "outputs": [],
   "source": [
    "corpus_name = 'all'\n",
    "list_df = []\n",
    "for c in corpus_metadata.keys(): # [k for k in corpus_metadata.keys() if k != 'postscriptum']:\n",
    "    corpus_dir = interim_data / c\n",
    "    records = []\n",
    "    for path in corpus_dir.glob('*.json'):\n",
    "        with open(path) as f:\n",
    "            d = json.load(f)\n",
    "            d['retrieved_at'] = datetime.datetime.fromtimestamp(path.stat().st_mtime)\n",
    "            records.append(d)\n",
    "    df = pd.DataFrame.from_records(records)\n",
    "    df = df.loc[df['text'].notnull()].set_index('meta_id')\n",
    "    df = metadata.normalize(df)\n",
    "    df['corpus'] = c\n",
    "    list_df.append(df)\n",
    "auto_df = pd.concat(list_df, axis=0) # , join='inner')"
   ]
  },
  {
   "cell_type": "code",
   "execution_count": 6,
   "metadata": {},
   "outputs": [],
   "source": [
    "# remove duplicates between codea and charta\n",
    "auto_df = auto_df.groupby('meta_id').first().drop_duplicates()"
   ]
  },
  {
   "cell_type": "code",
   "execution_count": 7,
   "metadata": {},
   "outputs": [],
   "source": [
    "auto_df['is_private'] = (\n",
    "    auto_df['doc_type'].str.match('carta(s|) privada(s|)')\n",
    "    | (auto_df['doc_type'] == 'epistolario')\n",
    "    | auto_df['doc_type'].str.match('carta(s|) particular(es|)')\n",
    "    | auto_df['doc_type'].str.match('carta(s|) personal(es|)')\n",
    "    | auto_df['doc_type'].str.extract('(.*) letter,')[0].isin(\n",
    "        ['personal', 'family', 'friendship', 'love']\n",
    "    )\n",
    ")\n",
    "auto_df['is_bal'] = (auto_df['region'].str.endswith('Baleares').fillna(False)) | (auto_df['corpus'] == 'corpusmallorca')"
   ]
  },
  {
   "cell_type": "code",
   "execution_count": 8,
   "metadata": {},
   "outputs": [
    {
     "data": {
      "text/html": [
       "<div>\n",
       "<style scoped>\n",
       "    .dataframe tbody tr th:only-of-type {\n",
       "        vertical-align: middle;\n",
       "    }\n",
       "\n",
       "    .dataframe tbody tr th {\n",
       "        vertical-align: top;\n",
       "    }\n",
       "\n",
       "    .dataframe thead th {\n",
       "        text-align: right;\n",
       "    }\n",
       "</style>\n",
       "<table border=\"1\" class=\"dataframe\">\n",
       "  <thead>\n",
       "    <tr style=\"text-align: right;\">\n",
       "      <th></th>\n",
       "      <th>file_id</th>\n",
       "      <th>archive</th>\n",
       "      <th>year</th>\n",
       "      <th>locality</th>\n",
       "      <th>region</th>\n",
       "      <th>country</th>\n",
       "      <th>abstract</th>\n",
       "      <th>doc_type</th>\n",
       "      <th>text</th>\n",
       "      <th>retrieved_at</th>\n",
       "      <th>...</th>\n",
       "      <th>date</th>\n",
       "      <th>author</th>\n",
       "      <th>diplo_type</th>\n",
       "      <th>writing</th>\n",
       "      <th>materias</th>\n",
       "      <th>copyist</th>\n",
       "      <th>job</th>\n",
       "      <th>keywords</th>\n",
       "      <th>is_private</th>\n",
       "      <th>is_bal</th>\n",
       "    </tr>\n",
       "    <tr>\n",
       "      <th>meta_id</th>\n",
       "      <th></th>\n",
       "      <th></th>\n",
       "      <th></th>\n",
       "      <th></th>\n",
       "      <th></th>\n",
       "      <th></th>\n",
       "      <th></th>\n",
       "      <th></th>\n",
       "      <th></th>\n",
       "      <th></th>\n",
       "      <th></th>\n",
       "      <th></th>\n",
       "      <th></th>\n",
       "      <th></th>\n",
       "      <th></th>\n",
       "      <th></th>\n",
       "      <th></th>\n",
       "      <th></th>\n",
       "      <th></th>\n",
       "      <th></th>\n",
       "      <th></th>\n",
       "    </tr>\n",
       "  </thead>\n",
       "  <tbody>\n",
       "    <tr>\n",
       "      <th>AA001_01</th>\n",
       "      <td>AA001_01</td>\n",
       "      <td>Arxiu del Regne de Mallorca</td>\n",
       "      <td>1702.0</td>\n",
       "      <td>Palma</td>\n",
       "      <td>Islas Baleares</td>\n",
       "      <td>España</td>\n",
       "      <td>El procurador fiscal de la Real Audiencia de M...</td>\n",
       "      <td>informes y relaciones</td>\n",
       "      <td>\\nExcelentisimo Señor\\n En cumplimiento del o...</td>\n",
       "      <td>2022-07-18 16:16:39.118889</td>\n",
       "      <td>...</td>\n",
       "      <td>None</td>\n",
       "      <td>None</td>\n",
       "      <td>None</td>\n",
       "      <td>None</td>\n",
       "      <td>None</td>\n",
       "      <td>None</td>\n",
       "      <td>None</td>\n",
       "      <td>None</td>\n",
       "      <td>False</td>\n",
       "      <td>True</td>\n",
       "    </tr>\n",
       "  </tbody>\n",
       "</table>\n",
       "<p>1 rows × 23 columns</p>\n",
       "</div>"
      ],
      "text/plain": [
       "           file_id                      archive    year locality  \\\n",
       "meta_id                                                            \n",
       "AA001_01  AA001_01  Arxiu del Regne de Mallorca  1702.0    Palma   \n",
       "\n",
       "                  region country  \\\n",
       "meta_id                            \n",
       "AA001_01  Islas Baleares  España   \n",
       "\n",
       "                                                   abstract  \\\n",
       "meta_id                                                       \n",
       "AA001_01  El procurador fiscal de la Real Audiencia de M...   \n",
       "\n",
       "                       doc_type  \\\n",
       "meta_id                           \n",
       "AA001_01  informes y relaciones   \n",
       "\n",
       "                                                       text  \\\n",
       "meta_id                                                       \n",
       "AA001_01   \\nExcelentisimo Señor\\n En cumplimiento del o...   \n",
       "\n",
       "                       retrieved_at  ...  date author diplo_type writing  \\\n",
       "meta_id                              ...                                   \n",
       "AA001_01 2022-07-18 16:16:39.118889  ...  None   None       None    None   \n",
       "\n",
       "         materias copyist   job keywords is_private is_bal  \n",
       "meta_id                                                     \n",
       "AA001_01     None    None  None     None      False   True  \n",
       "\n",
       "[1 rows x 23 columns]"
      ]
     },
     "execution_count": 8,
     "metadata": {},
     "output_type": "execute_result"
    }
   ],
   "source": [
    "auto_df.head(1)"
   ]
  },
  {
   "cell_type": "code",
   "execution_count": 44,
   "metadata": {},
   "outputs": [
    {
     "data": {
      "text/plain": [
       "corpuscodea       4023\n",
       "postscriptum      2446\n",
       "corpusmallorca    1343\n",
       "corpuscharta      1276\n",
       "Name: corpus, dtype: int64"
      ]
     },
     "execution_count": 44,
     "metadata": {},
     "output_type": "execute_result"
    }
   ],
   "source": [
    "auto_df['corpus'].value_counts()"
   ]
  },
  {
   "cell_type": "code",
   "execution_count": null,
   "metadata": {},
   "outputs": [],
   "source": [
    "corpus_name = 'postscriptum'\n",
    "corpus_name = 'corpusmallorca'\n",
    "corpus_dir = interim_data / corpus_name"
   ]
  },
  {
   "cell_type": "code",
   "execution_count": null,
   "metadata": {},
   "outputs": [
    {
     "data": {
      "text/html": [
       "<div>\n",
       "<style scoped>\n",
       "    .dataframe tbody tr th:only-of-type {\n",
       "        vertical-align: middle;\n",
       "    }\n",
       "\n",
       "    .dataframe tbody tr th {\n",
       "        vertical-align: top;\n",
       "    }\n",
       "\n",
       "    .dataframe thead th {\n",
       "        text-align: right;\n",
       "    }\n",
       "</style>\n",
       "<table border=\"1\" class=\"dataframe\">\n",
       "  <thead>\n",
       "    <tr style=\"text-align: right;\">\n",
       "      <th></th>\n",
       "      <th>file_id</th>\n",
       "      <th>archive</th>\n",
       "      <th>year</th>\n",
       "      <th>locality</th>\n",
       "      <th>region</th>\n",
       "      <th>country</th>\n",
       "      <th>abstract</th>\n",
       "      <th>doc_type</th>\n",
       "      <th>text</th>\n",
       "      <th>format</th>\n",
       "      <th>corpus</th>\n",
       "      <th>place</th>\n",
       "      <th>date</th>\n",
       "      <th>author</th>\n",
       "    </tr>\n",
       "    <tr>\n",
       "      <th>meta_id</th>\n",
       "      <th></th>\n",
       "      <th></th>\n",
       "      <th></th>\n",
       "      <th></th>\n",
       "      <th></th>\n",
       "      <th></th>\n",
       "      <th></th>\n",
       "      <th></th>\n",
       "      <th></th>\n",
       "      <th></th>\n",
       "      <th></th>\n",
       "      <th></th>\n",
       "      <th></th>\n",
       "      <th></th>\n",
       "    </tr>\n",
       "  </thead>\n",
       "  <tbody>\n",
       "    <tr>\n",
       "      <th>AMMT09_02</th>\n",
       "      <td>AMMT09_02</td>\n",
       "      <td>Arxiu Municipal de Montuïri</td>\n",
       "      <td>1787.0</td>\n",
       "      <td>Montuiri</td>\n",
       "      <td>Islas Baleares</td>\n",
       "      <td>España</td>\n",
       "      <td>Notificación a la Audiencia de la materializac...</td>\n",
       "      <td>informes y relaciones</td>\n",
       "      <td>y Diziembre  28 de 1787.  El Bayle siempre, ...</td>\n",
       "      <td>NaN</td>\n",
       "      <td>NaN</td>\n",
       "      <td>NaN</td>\n",
       "      <td>NaN</td>\n",
       "      <td>NaN</td>\n",
       "    </tr>\n",
       "    <tr>\n",
       "      <th>TOR01_03</th>\n",
       "      <td>TOR01_03</td>\n",
       "      <td>Arxiu del Regne de Mallorca</td>\n",
       "      <td>1688.0</td>\n",
       "      <td>Malta</td>\n",
       "      <td>Malta</td>\n",
       "      <td>Malta</td>\n",
       "      <td>Diego de Serralta escribe a su hermano Antonio...</td>\n",
       "      <td>cartas privadas</td>\n",
       "      <td>Hermano Señor y Amigo, despues\\nde 44 dias de...</td>\n",
       "      <td>NaN</td>\n",
       "      <td>NaN</td>\n",
       "      <td>NaN</td>\n",
       "      <td>NaN</td>\n",
       "      <td>NaN</td>\n",
       "    </tr>\n",
       "    <tr>\n",
       "      <th>TOR04_125</th>\n",
       "      <td>NaN</td>\n",
       "      <td>NaN</td>\n",
       "      <td>1862.0</td>\n",
       "      <td>Palma</td>\n",
       "      <td>Islas Baleares</td>\n",
       "      <td>NaN</td>\n",
       "      <td>Borradores de cartas, una a Perico pidiendo no...</td>\n",
       "      <td>cartas privadas</td>\n",
       "      <td>\\n Palma 4. Abril \\n Querido Perico, en \\ncon...</td>\n",
       "      <td>HIPERTEXT</td>\n",
       "      <td>Corpus Mallorca</td>\n",
       "      <td>Palma, Islas Baleares</td>\n",
       "      <td>1862- abril  4-00</td>\n",
       "      <td>xFausto Gual de Torrella (F.)</td>\n",
       "    </tr>\n",
       "    <tr>\n",
       "      <th>SC1_012</th>\n",
       "      <td>SC1_012</td>\n",
       "      <td>NaN</td>\n",
       "      <td>1667.0</td>\n",
       "      <td>Madrid</td>\n",
       "      <td>Madrid</td>\n",
       "      <td>España</td>\n",
       "      <td>Jordi Ferragut dice haber estado enfermo de un...</td>\n",
       "      <td>cartas privadas</td>\n",
       "      <td>Amigo y señor mio la carta de mi señor tengo r...</td>\n",
       "      <td>NaN</td>\n",
       "      <td>NaN</td>\n",
       "      <td>NaN</td>\n",
       "      <td>NaN</td>\n",
       "      <td>NaN</td>\n",
       "    </tr>\n",
       "    <tr>\n",
       "      <th>AA037_02</th>\n",
       "      <td>AA037_02</td>\n",
       "      <td>Arxiu del Regne de Mallorca</td>\n",
       "      <td>1804.0</td>\n",
       "      <td>Palma</td>\n",
       "      <td>Islas Baleares</td>\n",
       "      <td>España</td>\n",
       "      <td>Protesta de la Comandancia de Marina a la Audi...</td>\n",
       "      <td>informes y relaciones</td>\n",
       "      <td>Comandante militar de Marina en su precedente...</td>\n",
       "      <td>NaN</td>\n",
       "      <td>NaN</td>\n",
       "      <td>NaN</td>\n",
       "      <td>NaN</td>\n",
       "      <td>NaN</td>\n",
       "    </tr>\n",
       "  </tbody>\n",
       "</table>\n",
       "</div>"
      ],
      "text/plain": [
       "             file_id                      archive    year  locality  \\\n",
       "meta_id                                                               \n",
       "AMMT09_02  AMMT09_02  Arxiu Municipal de Montuïri  1787.0  Montuiri   \n",
       "TOR01_03    TOR01_03  Arxiu del Regne de Mallorca  1688.0     Malta   \n",
       "TOR04_125        NaN                          NaN  1862.0     Palma   \n",
       "SC1_012      SC1_012                          NaN  1667.0    Madrid   \n",
       "AA037_02    AA037_02  Arxiu del Regne de Mallorca  1804.0     Palma   \n",
       "\n",
       "                   region country  \\\n",
       "meta_id                             \n",
       "AMMT09_02  Islas Baleares  España   \n",
       "TOR01_03            Malta   Malta   \n",
       "TOR04_125  Islas Baleares     NaN   \n",
       "SC1_012            Madrid  España   \n",
       "AA037_02   Islas Baleares  España   \n",
       "\n",
       "                                                    abstract  \\\n",
       "meta_id                                                        \n",
       "AMMT09_02  Notificación a la Audiencia de la materializac...   \n",
       "TOR01_03   Diego de Serralta escribe a su hermano Antonio...   \n",
       "TOR04_125  Borradores de cartas, una a Perico pidiendo no...   \n",
       "SC1_012    Jordi Ferragut dice haber estado enfermo de un...   \n",
       "AA037_02   Protesta de la Comandancia de Marina a la Audi...   \n",
       "\n",
       "                        doc_type  \\\n",
       "meta_id                            \n",
       "AMMT09_02  informes y relaciones   \n",
       "TOR01_03         cartas privadas   \n",
       "TOR04_125        cartas privadas   \n",
       "SC1_012          cartas privadas   \n",
       "AA037_02   informes y relaciones   \n",
       "\n",
       "                                                        text      format  \\\n",
       "meta_id                                                                    \n",
       "AMMT09_02    y Diziembre  28 de 1787.  El Bayle siempre, ...         NaN   \n",
       "TOR01_03    Hermano Señor y Amigo, despues\\nde 44 dias de...         NaN   \n",
       "TOR04_125   \\n Palma 4. Abril \\n Querido Perico, en \\ncon...  HIPERTEXT    \n",
       "SC1_012    Amigo y señor mio la carta de mi señor tengo r...         NaN   \n",
       "AA037_02    Comandante militar de Marina en su precedente...         NaN   \n",
       "\n",
       "                     corpus                  place               date  \\\n",
       "meta_id                                                                 \n",
       "AMMT09_02               NaN                    NaN                NaN   \n",
       "TOR01_03                NaN                    NaN                NaN   \n",
       "TOR04_125  Corpus Mallorca   Palma, Islas Baleares  1862- abril  4-00   \n",
       "SC1_012                 NaN                    NaN                NaN   \n",
       "AA037_02                NaN                    NaN                NaN   \n",
       "\n",
       "                                  author  \n",
       "meta_id                                   \n",
       "AMMT09_02                            NaN  \n",
       "TOR01_03                             NaN  \n",
       "TOR04_125  xFausto Gual de Torrella (F.)  \n",
       "SC1_012                              NaN  \n",
       "AA037_02                             NaN  "
      ]
     },
     "metadata": {},
     "output_type": "display_data"
    }
   ],
   "source": [
    "records = []\n",
    "for path in corpus_dir.glob('*.json'):\n",
    "    with open(path) as f:\n",
    "        records.append(json.load(f))\n",
    "auto_df = pd.DataFrame.from_records(records)\n",
    "auto_df = auto_df.set_index('meta_id')\n",
    "auto_df = metadata.normalize(auto_df)\n",
    "auto_df.head()"
   ]
  },
  {
   "cell_type": "code",
   "execution_count": null,
   "metadata": {},
   "outputs": [],
   "source": [
    "auto_df.loc[(auto_df['doc_type'] == 'cartas privadas') & (auto_df['year'] >= 1600) & (auto_df['year'] < 1700)].to_csv('codea_for_conf.csv')"
   ]
  },
  {
   "attachments": {},
   "cell_type": "markdown",
   "metadata": {},
   "source": [
    "# Compare manually and automatically cleaned texts"
   ]
  },
  {
   "cell_type": "code",
   "execution_count": null,
   "metadata": {},
   "outputs": [],
   "source": [
    "letters_path = paths.ext_data / 'Cartas-txt'\n",
    "legal_docs_path = paths.ext_data / 'documentos arreglados CorpMA'"
   ]
  },
  {
   "cell_type": "code",
   "execution_count": null,
   "metadata": {},
   "outputs": [],
   "source": [
    "manual_docs = {}\n",
    "for fpath in letters_path.iterdir():\n",
    "    match = re.match(r'.*_Lit \\((.+)\\)', fpath.name)\n",
    "    if match is not None:\n",
    "        doc_id = match.groups()[0]     \n",
    "    with open(fpath, 'r') as f:\n",
    "        manual_docs[doc_id] = f.read()"
   ]
  },
  {
   "cell_type": "code",
   "execution_count": null,
   "metadata": {},
   "outputs": [],
   "source": [
    "manual_docs = {}\n",
    "for fpath in legal_docs_path.iterdir():\n",
    "    match = re.match(r'(.+)p.txt', fpath.name)\n",
    "    if match is not None:\n",
    "        doc_id = match.groups()[0]     \n",
    "        with open(fpath, 'r', encoding='Windows-1252') as f:\n",
    "            manual_docs[doc_id] = f.read()"
   ]
  },
  {
   "cell_type": "code",
   "execution_count": null,
   "metadata": {},
   "outputs": [],
   "source": [
    "for doc_id, text_by_hand in manual_docs.items():\n",
    "    path = interim_data / f'{doc_id}.json'\n",
    "    if path.exists():\n",
    "        with open(interim_data / f'{doc_id}.json', 'r') as f:\n",
    "            text_auto = json.load(f)['text']\n",
    "        print(f'** {doc_id} **')\n",
    "        print(text_by_hand)\n",
    "        print(text_auto)\n",
    "        break"
   ]
  },
  {
   "attachments": {},
   "cell_type": "markdown",
   "metadata": {},
   "source": [
    "this is a mess, nothing corresponds"
   ]
  },
  {
   "cell_type": "code",
   "execution_count": null,
   "metadata": {},
   "outputs": [],
   "source": [
    "real_id = 'AMPO01_01'\n",
    "manual_id = 'AMPO01_03'\n",
    "text_by_hand = manual_docs[manual_id]\n",
    "with open(interim_data / f'{real_id}.json', 'r') as f:\n",
    "    text_auto = json.load(f)['text']\n",
    "print(f'** {doc_id} **')\n",
    "print(text_by_hand)\n",
    "print(text_auto)"
   ]
  },
  {
   "attachments": {},
   "cell_type": "markdown",
   "metadata": {},
   "source": [
    "did it with AMPO01_01, which corresponds partly to AMPO01_03 (last paragraph), and removing \\n and spaces, I get exact match"
   ]
  },
  {
   "attachments": {},
   "cell_type": "markdown",
   "metadata": {},
   "source": [
    "# Get places locations"
   ]
  },
  {
   "cell_type": "code",
   "execution_count": null,
   "metadata": {},
   "outputs": [],
   "source": [
    "from collections import defaultdict\n",
    "places = defaultdict(lambda: 0)\n",
    "places_dict = {}\n",
    "for doc_id in doc_ids:\n",
    "    with open(interim_data / f'{doc_id}.json', 'r') as f:\n",
    "        p = json.load(f)['place']\n",
    "        places[p] += 1\n",
    "        places_dict[doc_id] = p"
   ]
  },
  {
   "cell_type": "code",
   "execution_count": null,
   "metadata": {},
   "outputs": [
    {
     "name": "stderr",
     "output_type": "stream",
     "text": [
      "/home/thomaslouf/.conda/envs/cafeconmiel/lib/python3.9/site-packages/osmnx/geocoder.py:110: FutureWarning: The frame.append method is deprecated and will be removed from pandas in a future version. Use pandas.concat instead.\n",
      "  gdf = gdf.append(_geocode_query_to_gdf(q, wr, by_osmid))\n"
     ]
    },
    {
     "data": {
      "text/html": [
       "<div>\n",
       "<style scoped>\n",
       "    .dataframe tbody tr th:only-of-type {\n",
       "        vertical-align: middle;\n",
       "    }\n",
       "\n",
       "    .dataframe tbody tr th {\n",
       "        vertical-align: top;\n",
       "    }\n",
       "\n",
       "    .dataframe thead th {\n",
       "        text-align: right;\n",
       "    }\n",
       "</style>\n",
       "<table border=\"1\" class=\"dataframe\">\n",
       "  <thead>\n",
       "    <tr style=\"text-align: right;\">\n",
       "      <th></th>\n",
       "      <th></th>\n",
       "      <th>admin_level</th>\n",
       "      <th>capital</th>\n",
       "      <th>ele</th>\n",
       "      <th>is_capital</th>\n",
       "      <th>name</th>\n",
       "      <th>name:ab</th>\n",
       "      <th>name:am</th>\n",
       "      <th>name:an</th>\n",
       "      <th>name:ar</th>\n",
       "      <th>name:arc</th>\n",
       "      <th>...</th>\n",
       "      <th>source</th>\n",
       "      <th>source:date</th>\n",
       "      <th>source:ele</th>\n",
       "      <th>source:file</th>\n",
       "      <th>source:name</th>\n",
       "      <th>source:name:oc</th>\n",
       "      <th>source:population</th>\n",
       "      <th>wikidata</th>\n",
       "      <th>wikipedia</th>\n",
       "      <th>geometry</th>\n",
       "    </tr>\n",
       "    <tr>\n",
       "      <th>element_type</th>\n",
       "      <th>osmid</th>\n",
       "      <th></th>\n",
       "      <th></th>\n",
       "      <th></th>\n",
       "      <th></th>\n",
       "      <th></th>\n",
       "      <th></th>\n",
       "      <th></th>\n",
       "      <th></th>\n",
       "      <th></th>\n",
       "      <th></th>\n",
       "      <th></th>\n",
       "      <th></th>\n",
       "      <th></th>\n",
       "      <th></th>\n",
       "      <th></th>\n",
       "      <th></th>\n",
       "      <th></th>\n",
       "      <th></th>\n",
       "      <th></th>\n",
       "      <th></th>\n",
       "      <th></th>\n",
       "    </tr>\n",
       "  </thead>\n",
       "  <tbody>\n",
       "    <tr>\n",
       "      <th>node</th>\n",
       "      <th>21068295</th>\n",
       "      <td>2</td>\n",
       "      <td>yes</td>\n",
       "      <td>655</td>\n",
       "      <td>country</td>\n",
       "      <td>Madrid</td>\n",
       "      <td>Мaдрид</td>\n",
       "      <td>ማድሪድ</td>\n",
       "      <td>Madrit</td>\n",
       "      <td>مدريد</td>\n",
       "      <td>ܡܕܪܝܕ</td>\n",
       "      <td>...</td>\n",
       "      <td>Instituto Geográfico Nacional</td>\n",
       "      <td>2011-06</td>\n",
       "      <td>MDT5</td>\n",
       "      <td>http://centrodedescargas.cnig.es/CentroDescarg...</td>\n",
       "      <td>Nomenclátor Geográfico de Municipios y Entidad...</td>\n",
       "      <td>Lo Congrès</td>\n",
       "      <td>BOE REAL DECRETO 1683/2007, de 14 de diciembre</td>\n",
       "      <td>Q2807</td>\n",
       "      <td>es:Madrid</td>\n",
       "      <td>POINT (-3.70358 40.41670)</td>\n",
       "    </tr>\n",
       "  </tbody>\n",
       "</table>\n",
       "<p>1 rows × 107 columns</p>\n",
       "</div>"
      ],
      "text/plain": [
       "                      admin_level capital  ele is_capital    name name:ab  \\\n",
       "element_type osmid                                                          \n",
       "node         21068295           2     yes  655    country  Madrid  Мaдрид   \n",
       "\n",
       "                      name:am name:an name:ar name:arc  ...  \\\n",
       "element_type osmid                                      ...   \n",
       "node         21068295    ማድሪድ  Madrit   مدريد    ܡܕܪܝܕ  ...   \n",
       "\n",
       "                                              source source:date source:ele  \\\n",
       "element_type osmid                                                            \n",
       "node         21068295  Instituto Geográfico Nacional     2011-06       MDT5   \n",
       "\n",
       "                                                             source:file  \\\n",
       "element_type osmid                                                         \n",
       "node         21068295  http://centrodedescargas.cnig.es/CentroDescarg...   \n",
       "\n",
       "                                                             source:name  \\\n",
       "element_type osmid                                                         \n",
       "node         21068295  Nomenclátor Geográfico de Municipios y Entidad...   \n",
       "\n",
       "                      source:name:oc  \\\n",
       "element_type osmid                     \n",
       "node         21068295     Lo Congrès   \n",
       "\n",
       "                                                    source:population  \\\n",
       "element_type osmid                                                      \n",
       "node         21068295  BOE REAL DECRETO 1683/2007, de 14 de diciembre   \n",
       "\n",
       "                      wikidata  wikipedia                   geometry  \n",
       "element_type osmid                                                    \n",
       "node         21068295    Q2807  es:Madrid  POINT (-3.70358 40.41670)  \n",
       "\n",
       "[1 rows x 107 columns]"
      ]
     },
     "metadata": {},
     "output_type": "display_data"
    }
   ],
   "source": [
    "tags = {'place': 'city'}\n",
    "gdf = ox.geometries_from_place('Madrid, Madrid', tags)\n",
    "gdf"
   ]
  },
  {
   "attachments": {},
   "cell_type": "markdown",
   "metadata": {},
   "source": [
    "# Quick viz"
   ]
  },
  {
   "cell_type": "code",
   "execution_count": 172,
   "metadata": {},
   "outputs": [],
   "source": [
    "# doc_df = auto_df[['doc_type', 'year', 'text'] place_cols].copy()\n",
    "doc_df = auto_df.copy()"
   ]
  },
  {
   "cell_type": "code",
   "execution_count": 103,
   "metadata": {},
   "outputs": [],
   "source": [
    "figs_path = paths.proj / 'reports' / 'figures' / corpus_name\n",
    "figs_path.mkdir(parents=True, exist_ok=True)"
   ]
  },
  {
   "cell_type": "code",
   "execution_count": null,
   "metadata": {},
   "outputs": [
    {
     "data": {
      "image/png": "[encoded data removed]",
      "text/plain": [
       "<Figure size 432x288 with 1 Axes>"
      ]
     },
     "metadata": {},
     "output_type": "display_data"
    }
   ],
   "source": [
    "top_regions = doc_df.groupby('region').size().sort_values().tail(5).index\n",
    "ax = sns.histplot(\n",
    "    doc_df.loc[doc_df['region'].isin(top_regions)],\n",
    "    x=\"year\", hue=\"region\",\n",
    "    multiple=\"stack\",\n",
    "    edgecolor=\".3\",\n",
    "    linewidth=.5,\n",
    ")\n",
    "ax.get_figure().savefig(figs_path / 'year_hist_by_region.pdf')"
   ]
  },
  {
   "attachments": {},
   "cell_type": "markdown",
   "metadata": {},
   "source": [
    "legal docs will most probably be useless, first for their content bu also region distribution: almost exclusively in baleares"
   ]
  },
  {
   "cell_type": "code",
   "execution_count": null,
   "metadata": {},
   "outputs": [
    {
     "data": {
      "image/png": "[encoded data removed]",
      "text/plain": [
       "<Figure size 432x288 with 1 Axes>"
      ]
     },
     "metadata": {},
     "output_type": "display_data"
    }
   ],
   "source": [
    "ax = sns.histplot(\n",
    "    doc_df,\n",
    "    x=\"region\", hue=\"doc_type\",\n",
    "    multiple=\"stack\",\n",
    "    edgecolor=\".3\",\n",
    "    linewidth=.5,\n",
    ")\n",
    "for item in ax.get_xticklabels():\n",
    "    item.set_rotation(45)\n",
    "    item.set_horizontalalignment('right')\n",
    "\n",
    "ax.get_figure().savefig(figs_path / 'region_hist_by_doc_type.pdf', bbox_inches='tight')"
   ]
  },
  {
   "attachments": {},
   "cell_type": "markdown",
   "metadata": {},
   "source": [
    "however letters have very small year range"
   ]
  },
  {
   "cell_type": "code",
   "execution_count": 517,
   "metadata": {},
   "outputs": [
    {
     "data": {
      "image/png": "[encoded data removed]",
      "text/plain": [
       "<Figure size 432x288 with 1 Axes>"
      ]
     },
     "metadata": {
      "needs_background": "light"
     },
     "output_type": "display_data"
    }
   ],
   "source": [
    "ax = sns.histplot(\n",
    "    doc_df,\n",
    "    x=\"year\", hue=\"doc_type\",\n",
    "    multiple=\"stack\",\n",
    "    edgecolor=\".3\",\n",
    "    linewidth=.5,\n",
    "    # legend=False\n",
    ")\n",
    "# ax.get_figure().savefig(figs_path / 'year_hist_by_doc_type.pdf')"
   ]
  },
  {
   "cell_type": "code",
   "execution_count": 38,
   "metadata": {},
   "outputs": [
    {
     "data": {
      "image/png": "[encoded data removed]",
      "text/plain": [
       "<Figure size 432x288 with 1 Axes>"
      ]
     },
     "metadata": {
      "needs_background": "light"
     },
     "output_type": "display_data"
    }
   ],
   "source": [
    "ax = sns.histplot(\n",
    "    doc_df,\n",
    "    x=\"year\", hue=\"is_private\",\n",
    "    multiple=\"stack\",\n",
    "    edgecolor=\".3\",\n",
    "    linewidth=.5,\n",
    ")\n",
    "# ax.get_figure().savefig(figs_path / 'year_hist_private_or_not.pdf')"
   ]
  },
  {
   "cell_type": "code",
   "execution_count": 52,
   "metadata": {},
   "outputs": [
    {
     "data": {
      "image/png": "[encoded data removed]",
      "text/plain": [
       "<Figure size 432x288 with 1 Axes>"
      ]
     },
     "metadata": {
      "needs_background": "light"
     },
     "output_type": "display_data"
    }
   ],
   "source": [
    "ax = sns.histplot(\n",
    "    doc_df.loc[doc_df['is_private']],\n",
    "    x=\"year\", hue=\"is_bal\",\n",
    "    multiple=\"stack\",\n",
    "    edgecolor=\".3\",\n",
    "    linewidth=.5,\n",
    ")"
   ]
  },
  {
   "cell_type": "code",
   "execution_count": 31,
   "metadata": {},
   "outputs": [
    {
     "data": {
      "image/png": "[encoded data removed]",
      "text/plain": [
       "<Figure size 432x288 with 1 Axes>"
      ]
     },
     "metadata": {
      "needs_background": "light"
     },
     "output_type": "display_data"
    }
   ],
   "source": [
    "ax = sns.histplot(\n",
    "    doc_df.loc[doc_df['corpus'] != 'postscriptum'],\n",
    "    x=\"year\", hue=\"corpus\",\n",
    "    multiple=\"stack\",\n",
    "    edgecolor=\".3\",\n",
    "    linewidth=.5,\n",
    ")\n",
    "# ax.get_figure().savefig(figs_path / 'year_hist_corpus.pdf')"
   ]
  },
  {
   "cell_type": "code",
   "execution_count": 71,
   "metadata": {},
   "outputs": [
    {
     "data": {
      "image/png": "[encoded data removed]",
      "text/plain": [
       "<Figure size 432x288 with 1 Axes>"
      ]
     },
     "metadata": {
      "needs_background": "light"
     },
     "output_type": "display_data"
    }
   ],
   "source": [
    "ax = sns.histplot(\n",
    "    doc_df.loc[doc_df['corpus'] != 'postscriptum'],\n",
    "    x=\"year\", hue=\"corpus\",\n",
    "    multiple=\"stack\",\n",
    "    edgecolor=\".3\",\n",
    "    linewidth=.5,\n",
    ")\n",
    "# ax.get_figure().savefig(figs_path / 'year_hist_corpus.pdf')"
   ]
  },
  {
   "cell_type": "code",
   "execution_count": 55,
   "metadata": {},
   "outputs": [
    {
     "data": {
      "image/png": "[encoded data removed]",
      "text/plain": [
       "<Figure size 432x288 with 1 Axes>"
      ]
     },
     "metadata": {
      "needs_background": "light"
     },
     "output_type": "display_data"
    }
   ],
   "source": [
    "ax = sns.histplot(\n",
    "    doc_df.loc[(doc_df['corpus'] == 'corpuscodea')\n",
    "               & (doc_df['year'] > 1500)\n",
    "               & (doc_df['year'] < 1700)\n",
    "               & ((doc_df['doc_type'] == 'cartas privadas')\n",
    "               | (doc_df['doc_type'] == 'cartas particulares'))],\n",
    "    x=\"year\", hue=\"doc_type\",\n",
    "    multiple=\"stack\",\n",
    "    edgecolor=\".3\",\n",
    "    linewidth=.5,\n",
    ")"
   ]
  },
  {
   "cell_type": "code",
   "execution_count": 193,
   "metadata": {},
   "outputs": [
    {
     "data": {
      "image/png": "[encoded data removed]",
      "text/plain": [
       "<Figure size 432x288 with 1 Axes>"
      ]
     },
     "metadata": {
      "needs_background": "light"
     },
     "output_type": "display_data"
    }
   ],
   "source": [
    "ax = sns.histplot(\n",
    "    doc_df.loc[doc_df['corpus'] != 'corpusmallorca'],\n",
    "    x=\"year\", hue=\"corpus\",\n",
    "    multiple=\"stack\",\n",
    "    edgecolor=\".3\",\n",
    "    linewidth=.5,\n",
    ")\n",
    "ax.get_figure().savefig(figs_path / 'docs_charta-codea_time.pdf')"
   ]
  }
 ],
 "metadata": {
  "interpreter": {
   "hash": "31f2aee4e71d21fbe5cf8b01ff0e069b9275f58929596ceb00d14d90e3e16cd6"
  },
  "kernelspec": {
   "display_name": "Python 3 (ipykernel)",
   "language": "python",
   "name": "python3"
  },
  "language_info": {
   "codemirror_mode": {
    "name": "ipython",
    "version": 3
   },
   "file_extension": ".py",
   "mimetype": "text/x-python",
   "name": "python",
   "nbconvert_exporter": "python",
   "pygments_lexer": "ipython3",
   "version": "3.9.13"
  },
  "orig_nbformat": 4
 },
 "nbformat": 4,
 "nbformat_minor": 2
}
